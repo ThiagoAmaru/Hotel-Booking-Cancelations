{
 "cells": [
  {
   "cell_type": "code",
   "execution_count": null,
   "id": "6222d7e4",
   "metadata": {},
   "outputs": [],
   "source": [
    "def objective(trial):\n",
    "\n",
    "    param_grid = {\n",
    "        'max_depth': trial.suggest_int('max_depth', 6, 10),\n",
    "        'learning_rate': trial.suggest_float('learning_rate', 1e-3, 1e-1, log=True),\n",
    "        'n_estimators': trial.suggest_categorical('n_estimators', [50,100,150]),\n",
    "        #'n_estimators': trial.suggest_int('n_estimators', 100, 500),\n",
    "        #'n_estimators': trial.suggest_discrete_uniform('n_estimators', 100, 500, 10),\n",
    "        'alpha': trial.suggest_float('alpha', 1e-8, 1.0, log=True),\n",
    "        #'reg_alpha': trial.suggest_loguniform('reg_alpha', 1e-8, 1.0),\n",
    "        'lambda': trial.suggest_float('lambda', 1e-8, 1.0, log=True),\n",
    "        #'reg_lambda': trial.suggest_loguniform('reg_lambda', 1e-8, 1.0),\n",
    "        'min_child_weight': trial.suggest_int('min_child_weight', 1, 6),\n",
    "        'eta': trial.suggest_discrete_uniform('eta', 0.01, 0.1, 0.01),\n",
    "        'colsample_bytree': trial.suggest_uniform('colsample_bytree', 0.4, 0.9),\n",
    "        #\"colsample_bytree\": trial.suggest_float(\"colsample_bytree\", 0.1, 1.0),\n",
    "        #'eval_metric': 'mlogloss'         #'eval_metric': 'binary:logistic'\n",
    "        'seed': RANDOM_SEED     \n",
    "        \n",
    "    }\n",
    "\n",
    "    model = XGBClassifier(**param_grid)\n",
    "    #model.fit(X_train, y_train)\n",
    "    model.fit(X_train, y_train,eval_set=[(X_val,y_val)], early_stopping_rounds=100,verbose=False)\n",
    "    yhat_xgb = model.predict(X_val)\n",
    "\n",
    "    return f1_score(y_val, yhat_xgb, average='macro')\n",
    "    #number_folds = 5\n",
    "    #Kfold = StratifiedKFold(n_splits=number_folds, shuffle=True, random_state=RANDOM_SEED )\n",
    "    #scores = cross_val_score(xgb, X, y, cv=Kfold, scoring=\"precision\")\n"
   ]
  },
  {
   "cell_type": "code",
   "execution_count": null,
   "id": "5e6aeca8",
   "metadata": {},
   "outputs": [],
   "source": [
    "study = optuna.create_study(direction='maximize')\n",
    "study.optimize(objective, n_trials=100); #, show_progress_bar=True\n",
    "\n",
    "trial = study.best_trial\n",
    "\n",
    "print('Best hyperparam: {}'.format(trial.params))"
   ]
  },
  {
   "cell_type": "code",
   "execution_count": null,
   "id": "2b3b8303",
   "metadata": {},
   "outputs": [],
   "source": [
    "# Print the result\n",
    "xgb_best_params = study.best_params\n",
    "xgb_best_score = study.best_value\n",
    "print(f\"Best score: {xgb_best_score}\\n\")\n",
    "print(f\"Optimized parameters: {xgb_best_params}\\n\")"
   ]
  },
  {
   "cell_type": "code",
   "execution_count": null,
   "id": "d54f84fe",
   "metadata": {},
   "outputs": [],
   "source": [
    "model_xgb_tuned = XGBClassifier(**xgb_best_params)\n",
    "y_prob_xgb_tuned, y_pred_xgb_tuned, scores_xgb_tuned  = CVS(model_xgb_tuned,X,y,'xgb_tuned')  "
   ]
  },
  {
   "cell_type": "code",
   "execution_count": null,
   "id": "896deb4b",
   "metadata": {},
   "outputs": [],
   "source": [
    "optuna.visualization.plot_optimization_history(study)"
   ]
  },
  {
   "cell_type": "code",
   "execution_count": null,
   "id": "1a52b8d4",
   "metadata": {},
   "outputs": [],
   "source": [
    "optuna.visualization.plot_slice(study)"
   ]
  },
  {
   "cell_type": "code",
   "execution_count": null,
   "id": "13085c20",
   "metadata": {},
   "outputs": [],
   "source": [
    "xgb_best_params = {#'max_depth': 10,\n",
    " 'learning_rate': 0.20,\n",
    " 'n_estimators': 100,\n",
    " 'reg_alpha': 2.12e-08,\n",
    " 'reg_lambda': 4.85e-08,\n",
    " 'min_child_weight': 2,\n",
    " 'eta': 0.09,                  \n",
    " 'colsample_bytree': 0.70}\n",
    "\n",
    "\n",
    "param_range = np.arange(3, 20, 1)\n",
    "\n",
    "\n",
    "train_scores = [ ]\n",
    "test_scores = [ ]\n",
    "for i in param_range:\n",
    "    xgb = XGBClassifier(**xgb_best_params,\n",
    "        max_depth = i\n",
    ")\n",
    "    xgb.fit(X_train,y_train)\n",
    "    train_scores.append(f1_score(y_train,xgb.predict(X_train)))\n",
    "    test_scores.append(f1_score(y_val,xgb.predict(X_val)))\n",
    "\n",
    "plt.subplots(1, figsize=(7,7))\n",
    "plt.plot(param_range, train_scores, label=\"Training\", color=\"black\")\n",
    "plt.plot(param_range, test_scores, label=\"Validation\", color=\"dimgrey\")\n",
    "\n",
    "# plt.fill_between(param_range, train_mean - train_std, train_mean + train_std, color=\"gray\")\n",
    "# plt.fill_between(param_range, test_mean - test_std, test_mean + test_std, color=\"gainsboro\")\n",
    " \n",
    "plt.title(\"Comparison Train x Validation - XGBoost\")\n",
    "plt.xlabel(\"Max Depth\")\n",
    "plt.ylabel(\"F1 Score\")\n",
    "plt.tight_layout()\n",
    "plt.legend(loc=\"best\")\n",
    "plt.show()"
   ]
  },
  {
   "cell_type": "code",
   "execution_count": null,
   "id": "d61a0f6c",
   "metadata": {},
   "outputs": [],
   "source": [
    "xgb_best_params = {'max_depth': 10,\n",
    " 'learning_rate': 0.20,\n",
    " #'n_estimators': 100,\n",
    " 'reg_alpha': 2.12e-08,\n",
    " 'reg_lambda': 4.85e-08,\n",
    " 'min_child_weight': 2,\n",
    " 'eta': 0.09,                  \n",
    " 'colsample_bytree': 0.70}\n",
    "\n",
    "\n",
    "param_range = np.arange(10, 300, 10)\n",
    "\n",
    "\n",
    "train_scores = [ ]\n",
    "test_scores = [ ]\n",
    "for i in param_range:\n",
    "    xgb = XGBClassifier(**xgb_best_params,\n",
    "        n_estimators = i\n",
    ")\n",
    "    xgb.fit(X_train,y_train)\n",
    "    train_scores.append(f1_score(y_train,xgb.predict(X_train)))\n",
    "    test_scores.append(f1_score(y_val,xgb.predict(X_val)))\n",
    "\n",
    "plt.subplots(1, figsize=(7,7))\n",
    "plt.plot(param_range, train_scores, label=\"Training\", color=\"black\")\n",
    "plt.plot(param_range, test_scores, label=\"Validation\", color=\"dimgrey\")\n",
    "\n",
    "\n",
    "# plt.fill_between(param_range, train_mean - train_std, train_mean + train_std, color=\"gray\")\n",
    "# plt.fill_between(param_range, test_mean - test_std, test_mean + test_std, color=\"gainsboro\")\n",
    " \n",
    "plt.title(\"Comparison Train x Validation - XGBoost\")\n",
    "plt.xlabel(\"Number of Estimators\")\n",
    "plt.ylabel(\"F1 Score\")\n",
    "plt.tight_layout()\n",
    "plt.legend(loc=\"best\")\n",
    "plt.show()"
   ]
  }
 ],
 "metadata": {
  "hide_input": false,
  "kernelspec": {
   "display_name": "Python 3 (ipykernel)",
   "language": "python",
   "name": "python3"
  },
  "language_info": {
   "codemirror_mode": {
    "name": "ipython",
    "version": 3
   },
   "file_extension": ".py",
   "mimetype": "text/x-python",
   "name": "python",
   "nbconvert_exporter": "python",
   "pygments_lexer": "ipython3",
   "version": "3.11.2"
  }
 },
 "nbformat": 4,
 "nbformat_minor": 5
}
