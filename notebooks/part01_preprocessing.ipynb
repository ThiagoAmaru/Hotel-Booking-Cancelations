{
 "cells": [
  {
   "cell_type": "markdown",
   "id": "d9dc30c3",
   "metadata": {},
   "source": [
    "# <div style=\"color:white;display:fill;border-radius:5px;background-color:#0E2031;letter-spacing:0.5px;overflow:hidden\"><p style=\"padding:20px;color:white;overflow:hidden;text-align: center;margin:0;font-size:120%\">Conteúdo</p></div>     \n",
    "   \n",
    "- Libraries\n",
    "- Configurations\n",
    "- Loading Data\n",
    "- Glossary\n",
    "- **Data Preprocessing** \n",
    "    - Missing Data\n",
    "    - Duplicated Values\n",
    "    - Data Types\n",
    "    - Strange Values\n",
    "    - Feature Engineer"
   ]
  },
  {
   "cell_type": "markdown",
   "id": "fc2d2e35",
   "metadata": {},
   "source": [
    "## <div style=\"color:white;display:fill;border-radius:5px;background-color:#153656;letter-spacing:0.5px;overflow:hidden\"><p style=\"padding:15px;color:white;overflow:hidden;text-align: center;margin:0;font-size:120%\">Libraries</p></div>"
   ]
  },
  {
   "cell_type": "code",
   "execution_count": 1,
   "id": "033b89b6",
   "metadata": {},
   "outputs": [],
   "source": [
    "#pip install -Uq pandas\n",
    "#!pip install -q watermark\n",
    "#!pip install pycountry-convert"
   ]
  },
  {
   "cell_type": "code",
   "execution_count": 2,
   "id": "13f3429d",
   "metadata": {},
   "outputs": [],
   "source": [
    "# Basic Tools\n",
    "import numpy as np\n",
    "import pandas as pd\n",
    "from datetime import datetime as dt\n",
    "\n",
    "# Convert Alpha3 Countries to Country Name and Continents\n",
    "import pycountry\n",
    "import pycountry_convert as pc\n",
    "\n",
    "\n",
    "# File/ OS Tools\n",
    "import os\n",
    "import sys\n",
    "from watermark import watermark"
   ]
  },
  {
   "cell_type": "markdown",
   "id": "6f75e5a8",
   "metadata": {},
   "source": [
    "## <div style=\"color:white;display:fill;border-radius:5px;background-color:#153656;letter-spacing:0.5px;overflow:hidden\"><p style=\"padding:15px;color:white;overflow:hidden;text-align: center;margin:0;font-size:120%\">Configurations</p></div>"
   ]
  },
  {
   "cell_type": "code",
   "execution_count": 3,
   "id": "14efd8a3",
   "metadata": {},
   "outputs": [
    {
     "name": "stdout",
     "output_type": "stream",
     "text": [
      "Last updated: 2023-04-23T17:53:13.356232-03:00\n",
      "\n",
      "Python implementation: CPython\n",
      "Python version       : 3.10.6\n",
      "IPython version      : 8.5.0\n",
      "\n",
      "Compiler    : GCC 11.3.0\n",
      "OS          : Linux\n",
      "Release     : 5.19.0-40-generic\n",
      "Machine     : x86_64\n",
      "Processor   : x86_64\n",
      "CPU cores   : 12\n",
      "Architecture: 64bit\n",
      "\n"
     ]
    }
   ],
   "source": [
    "print(watermark())"
   ]
  },
  {
   "cell_type": "code",
   "execution_count": 4,
   "id": "a08230fd",
   "metadata": {},
   "outputs": [],
   "source": [
    "ATUAL_DIR = os.path.abspath(os.getcwd())\n",
    "ROOT_DIR = os.path.dirname(ATUAL_DIR)"
   ]
  },
  {
   "cell_type": "code",
   "execution_count": 5,
   "id": "59216772",
   "metadata": {},
   "outputs": [],
   "source": [
    "if ROOT_DIR not in sys.path:\n",
    "    sys.path.append(ROOT_DIR)\n",
    "\n",
    "os.chdir(ROOT_DIR)"
   ]
  },
  {
   "cell_type": "code",
   "execution_count": 6,
   "id": "e914e475",
   "metadata": {},
   "outputs": [],
   "source": [
    "def pandas_settings():\n",
    "    pd.options.display.float_format = '{:,.4f}'.format\n",
    "    pd.set_option('display.expand_frame_repr', False )\n",
    "    pd.set_option('display.max_columns', 35)\n",
    "    pd.set_option('display.max_rows', 50)\n",
    "    \n",
    "\n",
    "pandas_settings()"
   ]
  },
  {
   "cell_type": "markdown",
   "id": "147aa9a5",
   "metadata": {},
   "source": [
    "## <div style=\"color:white;display:fill;border-radius:5px;background-color:#153656;letter-spacing:0.5px;overflow:hidden\"><p style=\"padding:15px;color:white;overflow:hidden;text-align: center;margin:0;font-size:120%\">Loading Data</p></div>"
   ]
  },
  {
   "cell_type": "code",
   "execution_count": 7,
   "id": "b503848f",
   "metadata": {},
   "outputs": [
    {
     "name": "stdout",
     "output_type": "stream",
     "text": [
      "/home/alysson/projects/Hotel-Booking-Cancelations/data/data_processed/hotel_bookings_processed.csv\n",
      "/home/alysson/projects/Hotel-Booking-Cancelations/data/data_raw/hotel_bookings.csv\n"
     ]
    }
   ],
   "source": [
    "for dirname, _, filenames in os.walk(os.path.join(ROOT_DIR, \"data\")):\n",
    "    for filename in filenames:\n",
    "        print(os.path.join(dirname, filename))"
   ]
  },
  {
   "cell_type": "code",
   "execution_count": 8,
   "id": "7ca67b35",
   "metadata": {},
   "outputs": [],
   "source": [
    "DATA_RAW_PATH = os.path.join(ROOT_DIR, \"data\", \"data_raw\", \"hotel_bookings.csv\")"
   ]
  },
  {
   "cell_type": "code",
   "execution_count": 9,
   "id": "a4bb7f4f",
   "metadata": {},
   "outputs": [],
   "source": [
    "data_raw = pd.read_csv(DATA_RAW_PATH)"
   ]
  },
  {
   "cell_type": "code",
   "execution_count": 10,
   "id": "cd778898",
   "metadata": {},
   "outputs": [],
   "source": [
    "data = data_raw.copy()"
   ]
  },
  {
   "cell_type": "code",
   "execution_count": 11,
   "id": "a5d1778a",
   "metadata": {},
   "outputs": [
    {
     "data": {
      "text/plain": [
       "(119390, 32)"
      ]
     },
     "execution_count": 11,
     "metadata": {},
     "output_type": "execute_result"
    }
   ],
   "source": [
    "data.shape"
   ]
  },
  {
   "cell_type": "markdown",
   "id": "a99c4726",
   "metadata": {},
   "source": [
    "## <div style=\"color:white;display:fill;border-radius:5px;background-color:#153656;letter-spacing:0.5px;overflow:hidden\"><p style=\"padding:15px;color:white;overflow:hidden;text-align: center;margin:0;font-size:120%\">Glossary</p></div>"
   ]
  },
  {
   "cell_type": "code",
   "execution_count": 12,
   "id": "39724d90",
   "metadata": {},
   "outputs": [],
   "source": [
    "glossary_pt = [['Colunas', 'Significado'],\n",
    "              ['hotel', 'Hotel Urbano ou Resort'],\n",
    "              ['is_canceled', 'Informa se a reserva foi cancelada (1 = Cancelado, 0 = Não Cancelado)'],\n",
    "              ['lead_time', 'O tempo corrente em dias do momento que a reserva foi feita até o dia reservado'],\n",
    "              ['market_segment', 'Segmento'] \n",
    "              ]\n",
    "#print(tabulate(glossary_pt, headers='firstrow', stralign='left', tablefmt='simple'))"
   ]
  },
  {
   "cell_type": "markdown",
   "id": "84b7a931",
   "metadata": {},
   "source": [
    "## <div style=\"color:white;display:fill;border-radius:5px;background-color:#153656;letter-spacing:0.5px;overflow:hidden\"><p style=\"padding:15px;color:white;overflow:hidden;text-align: center;margin:0;font-size:120%\">Data Preprocessing</p></div>"
   ]
  },
  {
   "cell_type": "markdown",
   "id": "a9c6f397",
   "metadata": {},
   "source": [
    "### <div style=\"color:white;display:fill;border-radius:5px;background-color:#2E6B8E;letter-spacing:0.5px;overflow:hidden\"><p style=\"padding:10px;color:white;overflow:hidden;text-align: center;margin:0;font-size:120%\">Missing Data</p></div>"
   ]
  },
  {
   "cell_type": "code",
   "execution_count": 13,
   "id": "0d19bd97",
   "metadata": {},
   "outputs": [
    {
     "data": {
      "text/plain": [
       "hotel                                  0\n",
       "is_canceled                            0\n",
       "lead_time                              0\n",
       "arrival_date_year                      0\n",
       "arrival_date_month                     0\n",
       "arrival_date_week_number               0\n",
       "arrival_date_day_of_month              0\n",
       "stays_in_weekend_nights                0\n",
       "stays_in_week_nights                   0\n",
       "adults                                 0\n",
       "children                               4\n",
       "babies                                 0\n",
       "meal                                   0\n",
       "country                              488\n",
       "market_segment                         0\n",
       "distribution_channel                   0\n",
       "is_repeated_guest                      0\n",
       "previous_cancellations                 0\n",
       "previous_bookings_not_canceled         0\n",
       "reserved_room_type                     0\n",
       "assigned_room_type                     0\n",
       "booking_changes                        0\n",
       "deposit_type                           0\n",
       "agent                              16340\n",
       "company                           112593\n",
       "days_in_waiting_list                   0\n",
       "customer_type                          0\n",
       "adr                                    0\n",
       "required_car_parking_spaces            0\n",
       "total_of_special_requests              0\n",
       "reservation_status                     0\n",
       "reservation_status_date                0\n",
       "dtype: int64"
      ]
     },
     "execution_count": 13,
     "metadata": {},
     "output_type": "execute_result"
    }
   ],
   "source": [
    "data.isna().sum()"
   ]
  },
  {
   "cell_type": "code",
   "execution_count": 14,
   "id": "6bf31c81",
   "metadata": {},
   "outputs": [],
   "source": [
    "nan_replacements = {\"children\": 0, \"agent\": 0, \"company\": 0}\n",
    "data = data.fillna(nan_replacements)"
   ]
  },
  {
   "cell_type": "markdown",
   "id": "88266b39",
   "metadata": {},
   "source": [
    "**Observações:**\n",
    "\n",
    "- Are the NaN values because the customer did not inform the nationality when making the reservation or the system was not able to identify the user's nationality?\n",
    "\n",
    "- Why so many missing values in the Company column?"
   ]
  },
  {
   "cell_type": "markdown",
   "id": "827bce3a",
   "metadata": {},
   "source": [
    "### <div style=\"color:white;display:fill;border-radius:5px;background-color:#2E6B8E;letter-spacing:0.5px;overflow:hidden\"><p style=\"padding:10px;color:white;overflow:hidden;text-align: center;margin:0;font-size:120%\">Duplicated Data</p></div>"
   ]
  },
  {
   "cell_type": "code",
   "execution_count": 15,
   "id": "f45f82c8",
   "metadata": {},
   "outputs": [
    {
     "data": {
      "text/plain": [
       "31994"
      ]
     },
     "execution_count": 15,
     "metadata": {},
     "output_type": "execute_result"
    }
   ],
   "source": [
    "data.duplicated().sum()"
   ]
  },
  {
   "cell_type": "markdown",
   "id": "63e2b9f4",
   "metadata": {},
   "source": [
    "Duplicate values here are not necessarily a problem. It is possible for example to have reservations for the same type of room on the same day that were booked on the same day. Since we don't have more information if these values refer to the same guest, we'll keep it as it is."
   ]
  },
  {
   "cell_type": "code",
   "execution_count": 16,
   "id": "d34347fe",
   "metadata": {},
   "outputs": [
    {
     "data": {
      "text/html": [
       "<div>\n",
       "<style scoped>\n",
       "    .dataframe tbody tr th:only-of-type {\n",
       "        vertical-align: middle;\n",
       "    }\n",
       "\n",
       "    .dataframe tbody tr th {\n",
       "        vertical-align: top;\n",
       "    }\n",
       "\n",
       "    .dataframe thead th {\n",
       "        text-align: right;\n",
       "    }\n",
       "</style>\n",
       "<table border=\"1\" class=\"dataframe\">\n",
       "  <thead>\n",
       "    <tr style=\"text-align: right;\">\n",
       "      <th></th>\n",
       "      <th>hotel</th>\n",
       "      <th>is_canceled</th>\n",
       "      <th>lead_time</th>\n",
       "      <th>arrival_date_year</th>\n",
       "      <th>arrival_date_month</th>\n",
       "      <th>arrival_date_week_number</th>\n",
       "      <th>arrival_date_day_of_month</th>\n",
       "      <th>stays_in_weekend_nights</th>\n",
       "      <th>stays_in_week_nights</th>\n",
       "      <th>adults</th>\n",
       "      <th>children</th>\n",
       "      <th>babies</th>\n",
       "      <th>meal</th>\n",
       "      <th>country</th>\n",
       "      <th>market_segment</th>\n",
       "      <th>distribution_channel</th>\n",
       "      <th>is_repeated_guest</th>\n",
       "      <th>previous_cancellations</th>\n",
       "      <th>previous_bookings_not_canceled</th>\n",
       "      <th>reserved_room_type</th>\n",
       "      <th>assigned_room_type</th>\n",
       "      <th>booking_changes</th>\n",
       "      <th>deposit_type</th>\n",
       "      <th>agent</th>\n",
       "      <th>company</th>\n",
       "      <th>days_in_waiting_list</th>\n",
       "      <th>customer_type</th>\n",
       "      <th>adr</th>\n",
       "      <th>required_car_parking_spaces</th>\n",
       "      <th>total_of_special_requests</th>\n",
       "      <th>reservation_status</th>\n",
       "      <th>reservation_status_date</th>\n",
       "    </tr>\n",
       "  </thead>\n",
       "  <tbody>\n",
       "    <tr>\n",
       "      <th>6195</th>\n",
       "      <td>Resort Hotel</td>\n",
       "      <td>0</td>\n",
       "      <td>225</td>\n",
       "      <td>2016</td>\n",
       "      <td>May</td>\n",
       "      <td>22</td>\n",
       "      <td>28</td>\n",
       "      <td>1</td>\n",
       "      <td>1</td>\n",
       "      <td>2</td>\n",
       "      <td>0.0000</td>\n",
       "      <td>0</td>\n",
       "      <td>HB</td>\n",
       "      <td>DEU</td>\n",
       "      <td>Groups</td>\n",
       "      <td>TA/TO</td>\n",
       "      <td>0</td>\n",
       "      <td>0</td>\n",
       "      <td>0</td>\n",
       "      <td>A</td>\n",
       "      <td>E</td>\n",
       "      <td>0</td>\n",
       "      <td>No Deposit</td>\n",
       "      <td>298.0000</td>\n",
       "      <td>0.0000</td>\n",
       "      <td>0</td>\n",
       "      <td>Transient-Party</td>\n",
       "      <td>85.0000</td>\n",
       "      <td>0</td>\n",
       "      <td>0</td>\n",
       "      <td>Check-Out</td>\n",
       "      <td>2016-05-30</td>\n",
       "    </tr>\n",
       "    <tr>\n",
       "      <th>51075</th>\n",
       "      <td>City Hotel</td>\n",
       "      <td>1</td>\n",
       "      <td>309</td>\n",
       "      <td>2016</td>\n",
       "      <td>May</td>\n",
       "      <td>20</td>\n",
       "      <td>13</td>\n",
       "      <td>1</td>\n",
       "      <td>2</td>\n",
       "      <td>2</td>\n",
       "      <td>0.0000</td>\n",
       "      <td>0</td>\n",
       "      <td>HB</td>\n",
       "      <td>PRT</td>\n",
       "      <td>Offline TA/TO</td>\n",
       "      <td>TA/TO</td>\n",
       "      <td>0</td>\n",
       "      <td>0</td>\n",
       "      <td>0</td>\n",
       "      <td>A</td>\n",
       "      <td>A</td>\n",
       "      <td>0</td>\n",
       "      <td>No Deposit</td>\n",
       "      <td>3.0000</td>\n",
       "      <td>0.0000</td>\n",
       "      <td>215</td>\n",
       "      <td>Transient-Party</td>\n",
       "      <td>101.0000</td>\n",
       "      <td>0</td>\n",
       "      <td>0</td>\n",
       "      <td>Canceled</td>\n",
       "      <td>2016-02-09</td>\n",
       "    </tr>\n",
       "    <tr>\n",
       "      <th>75647</th>\n",
       "      <td>City Hotel</td>\n",
       "      <td>1</td>\n",
       "      <td>290</td>\n",
       "      <td>2015</td>\n",
       "      <td>August</td>\n",
       "      <td>32</td>\n",
       "      <td>3</td>\n",
       "      <td>1</td>\n",
       "      <td>3</td>\n",
       "      <td>2</td>\n",
       "      <td>0.0000</td>\n",
       "      <td>0</td>\n",
       "      <td>BB</td>\n",
       "      <td>PRT</td>\n",
       "      <td>Groups</td>\n",
       "      <td>TA/TO</td>\n",
       "      <td>0</td>\n",
       "      <td>1</td>\n",
       "      <td>0</td>\n",
       "      <td>A</td>\n",
       "      <td>A</td>\n",
       "      <td>0</td>\n",
       "      <td>No Deposit</td>\n",
       "      <td>1.0000</td>\n",
       "      <td>0.0000</td>\n",
       "      <td>0</td>\n",
       "      <td>Transient-Party</td>\n",
       "      <td>62.0000</td>\n",
       "      <td>0</td>\n",
       "      <td>0</td>\n",
       "      <td>Canceled</td>\n",
       "      <td>2015-07-06</td>\n",
       "    </tr>\n",
       "    <tr>\n",
       "      <th>3659</th>\n",
       "      <td>Resort Hotel</td>\n",
       "      <td>0</td>\n",
       "      <td>165</td>\n",
       "      <td>2015</td>\n",
       "      <td>December</td>\n",
       "      <td>53</td>\n",
       "      <td>30</td>\n",
       "      <td>0</td>\n",
       "      <td>4</td>\n",
       "      <td>2</td>\n",
       "      <td>0.0000</td>\n",
       "      <td>0</td>\n",
       "      <td>Undefined</td>\n",
       "      <td>PRT</td>\n",
       "      <td>Groups</td>\n",
       "      <td>TA/TO</td>\n",
       "      <td>0</td>\n",
       "      <td>0</td>\n",
       "      <td>0</td>\n",
       "      <td>A</td>\n",
       "      <td>A</td>\n",
       "      <td>0</td>\n",
       "      <td>No Deposit</td>\n",
       "      <td>308.0000</td>\n",
       "      <td>0.0000</td>\n",
       "      <td>122</td>\n",
       "      <td>Transient-Party</td>\n",
       "      <td>136.5000</td>\n",
       "      <td>0</td>\n",
       "      <td>0</td>\n",
       "      <td>Check-Out</td>\n",
       "      <td>2016-01-03</td>\n",
       "    </tr>\n",
       "    <tr>\n",
       "      <th>78633</th>\n",
       "      <td>City Hotel</td>\n",
       "      <td>1</td>\n",
       "      <td>14</td>\n",
       "      <td>2015</td>\n",
       "      <td>October</td>\n",
       "      <td>42</td>\n",
       "      <td>15</td>\n",
       "      <td>0</td>\n",
       "      <td>1</td>\n",
       "      <td>1</td>\n",
       "      <td>0.0000</td>\n",
       "      <td>0</td>\n",
       "      <td>BB</td>\n",
       "      <td>PRT</td>\n",
       "      <td>Offline TA/TO</td>\n",
       "      <td>TA/TO</td>\n",
       "      <td>0</td>\n",
       "      <td>1</td>\n",
       "      <td>0</td>\n",
       "      <td>A</td>\n",
       "      <td>A</td>\n",
       "      <td>0</td>\n",
       "      <td>No Deposit</td>\n",
       "      <td>99.0000</td>\n",
       "      <td>0.0000</td>\n",
       "      <td>0</td>\n",
       "      <td>Transient-Party</td>\n",
       "      <td>100.0000</td>\n",
       "      <td>0</td>\n",
       "      <td>0</td>\n",
       "      <td>Canceled</td>\n",
       "      <td>2015-10-13</td>\n",
       "    </tr>\n",
       "  </tbody>\n",
       "</table>\n",
       "</div>"
      ],
      "text/plain": [
       "              hotel  is_canceled  lead_time  arrival_date_year arrival_date_month  arrival_date_week_number  arrival_date_day_of_month  stays_in_weekend_nights  stays_in_week_nights  adults  children  babies       meal country market_segment distribution_channel  is_repeated_guest  previous_cancellations  previous_bookings_not_canceled reserved_room_type assigned_room_type  booking_changes deposit_type    agent  company  days_in_waiting_list    customer_type      adr  required_car_parking_spaces  total_of_special_requests reservation_status reservation_status_date\n",
       "6195   Resort Hotel            0        225               2016                May                        22                         28                        1                     1       2    0.0000       0         HB     DEU         Groups                TA/TO                  0                       0                               0                  A                  E                0   No Deposit 298.0000   0.0000                     0  Transient-Party  85.0000                            0                          0          Check-Out              2016-05-30\n",
       "51075    City Hotel            1        309               2016                May                        20                         13                        1                     2       2    0.0000       0         HB     PRT  Offline TA/TO                TA/TO                  0                       0                               0                  A                  A                0   No Deposit   3.0000   0.0000                   215  Transient-Party 101.0000                            0                          0           Canceled              2016-02-09\n",
       "75647    City Hotel            1        290               2015             August                        32                          3                        1                     3       2    0.0000       0         BB     PRT         Groups                TA/TO                  0                       1                               0                  A                  A                0   No Deposit   1.0000   0.0000                     0  Transient-Party  62.0000                            0                          0           Canceled              2015-07-06\n",
       "3659   Resort Hotel            0        165               2015           December                        53                         30                        0                     4       2    0.0000       0  Undefined     PRT         Groups                TA/TO                  0                       0                               0                  A                  A                0   No Deposit 308.0000   0.0000                   122  Transient-Party 136.5000                            0                          0          Check-Out              2016-01-03\n",
       "78633    City Hotel            1         14               2015            October                        42                         15                        0                     1       1    0.0000       0         BB     PRT  Offline TA/TO                TA/TO                  0                       1                               0                  A                  A                0   No Deposit  99.0000   0.0000                     0  Transient-Party 100.0000                            0                          0           Canceled              2015-10-13"
      ]
     },
     "execution_count": 16,
     "metadata": {},
     "output_type": "execute_result"
    }
   ],
   "source": [
    "data.loc[data.duplicated(), :].sample(5)"
   ]
  },
  {
   "cell_type": "markdown",
   "id": "9cc2dea6",
   "metadata": {},
   "source": [
    "### <div style=\"color:white;display:fill;border-radius:5px;background-color:#2E6B8E;letter-spacing:0.5px;overflow:hidden\"><p style=\"padding:10px;color:white;overflow:hidden;text-align: center;margin:0;font-size:120%\">Data Types</p></div>"
   ]
  },
  {
   "cell_type": "code",
   "execution_count": 17,
   "id": "981459f1",
   "metadata": {},
   "outputs": [
    {
     "name": "stdout",
     "output_type": "stream",
     "text": [
      "<class 'pandas.core.frame.DataFrame'>\n",
      "RangeIndex: 119390 entries, 0 to 119389\n",
      "Data columns (total 32 columns):\n",
      " #   Column                          Non-Null Count   Dtype  \n",
      "---  ------                          --------------   -----  \n",
      " 0   hotel                           119390 non-null  object \n",
      " 1   is_canceled                     119390 non-null  int64  \n",
      " 2   lead_time                       119390 non-null  int64  \n",
      " 3   arrival_date_year               119390 non-null  int64  \n",
      " 4   arrival_date_month              119390 non-null  object \n",
      " 5   arrival_date_week_number        119390 non-null  int64  \n",
      " 6   arrival_date_day_of_month       119390 non-null  int64  \n",
      " 7   stays_in_weekend_nights         119390 non-null  int64  \n",
      " 8   stays_in_week_nights            119390 non-null  int64  \n",
      " 9   adults                          119390 non-null  int64  \n",
      " 10  children                        119390 non-null  float64\n",
      " 11  babies                          119390 non-null  int64  \n",
      " 12  meal                            119390 non-null  object \n",
      " 13  country                         118902 non-null  object \n",
      " 14  market_segment                  119390 non-null  object \n",
      " 15  distribution_channel            119390 non-null  object \n",
      " 16  is_repeated_guest               119390 non-null  int64  \n",
      " 17  previous_cancellations          119390 non-null  int64  \n",
      " 18  previous_bookings_not_canceled  119390 non-null  int64  \n",
      " 19  reserved_room_type              119390 non-null  object \n",
      " 20  assigned_room_type              119390 non-null  object \n",
      " 21  booking_changes                 119390 non-null  int64  \n",
      " 22  deposit_type                    119390 non-null  object \n",
      " 23  agent                           119390 non-null  float64\n",
      " 24  company                         119390 non-null  float64\n",
      " 25  days_in_waiting_list            119390 non-null  int64  \n",
      " 26  customer_type                   119390 non-null  object \n",
      " 27  adr                             119390 non-null  float64\n",
      " 28  required_car_parking_spaces     119390 non-null  int64  \n",
      " 29  total_of_special_requests       119390 non-null  int64  \n",
      " 30  reservation_status              119390 non-null  object \n",
      " 31  reservation_status_date         119390 non-null  object \n",
      "dtypes: float64(4), int64(16), object(12)\n",
      "memory usage: 29.1+ MB\n"
     ]
    }
   ],
   "source": [
    "data.info()"
   ]
  },
  {
   "cell_type": "code",
   "execution_count": 18,
   "id": "6f9d15a4",
   "metadata": {},
   "outputs": [],
   "source": [
    "data['reservation_status_date'] = pd.to_datetime(data['reservation_status_date'])#, format='%Y/%m/%d'"
   ]
  },
  {
   "cell_type": "code",
   "execution_count": 19,
   "id": "4b3bc443",
   "metadata": {},
   "outputs": [],
   "source": [
    "data = data.astype({\"children\": int, \"agent\": int, \"company\": int})"
   ]
  },
  {
   "cell_type": "markdown",
   "id": "223a743a",
   "metadata": {},
   "source": [
    "### <div style=\"color:white;display:fill;border-radius:5px;background-color:#2E6B8E;letter-spacing:0.5px;overflow:hidden\"><p style=\"padding:10px;color:white;overflow:hidden;text-align: center;margin:0;font-size:120%\">Dados Estranhos</p></div>"
   ]
  },
  {
   "cell_type": "code",
   "execution_count": 20,
   "id": "eb8fdc46",
   "metadata": {},
   "outputs": [
    {
     "data": {
      "text/plain": [
       "119390"
      ]
     },
     "execution_count": 20,
     "metadata": {},
     "output_type": "execute_result"
    }
   ],
   "source": [
    "len(data)"
   ]
  },
  {
   "cell_type": "code",
   "execution_count": 21,
   "id": "e434ef60",
   "metadata": {},
   "outputs": [
    {
     "data": {
      "text/plain": [
       "155"
      ]
     },
     "execution_count": 21,
     "metadata": {},
     "output_type": "execute_result"
    }
   ],
   "source": [
    "#No people and reservation status equal to \"check-out\"\n",
    "len(data.loc[((data['children'] == 0) & (data['adults'] == 0) & (data['babies'] == 0) & (data['reservation_status'] == 'Check-Out'))])"
   ]
  },
  {
   "cell_type": "code",
   "execution_count": 22,
   "id": "b6fa3559",
   "metadata": {},
   "outputs": [],
   "source": [
    "data=data.loc[~((data['children'] == 0) & (data['adults'] == 0) & (data['babies'] == 0) & (data['reservation_status'] == 'Check-Out'))]"
   ]
  },
  {
   "cell_type": "code",
   "execution_count": 23,
   "id": "71858fc9",
   "metadata": {},
   "outputs": [
    {
     "data": {
      "text/plain": [
       "119234"
      ]
     },
     "execution_count": 23,
     "metadata": {},
     "output_type": "execute_result"
    }
   ],
   "source": [
    "#Negative ADR \n",
    "data = data.loc[~(data['adr']<0)]\n",
    "len(data)"
   ]
  },
  {
   "cell_type": "markdown",
   "id": "9e58592f",
   "metadata": {},
   "source": [
    "### <div style=\"color:white;display:fill;border-radius:5px;background-color:#2E6B8E;letter-spacing:0.5px;overflow:hidden\"><p style=\"padding:10px;color:white;overflow:hidden;text-align: center;margin:0;font-size:120%\">Feature Engineer</p></div>"
   ]
  },
  {
   "cell_type": "code",
   "execution_count": 24,
   "id": "a720be96",
   "metadata": {},
   "outputs": [],
   "source": [
    "#Same meaning values according to dictionary source\n",
    "data['meal'] = data['meal'].replace(\"Undefined\", \"SC\")"
   ]
  },
  {
   "cell_type": "code",
   "execution_count": 25,
   "id": "2e1591db",
   "metadata": {},
   "outputs": [],
   "source": [
    "#data[\"adr_pp\"] = data[\"adr\"] / (data[\"adults\"] + data[\"children\"])\n",
    "data[\"people\"] = (data[\"adults\"] + data[\"children\"] + data[\"babies\"])\n",
    "data['kids'] = data['children'] + data['babies']\n",
    "data['days_stay'] = data['stays_in_weekend_nights'] + data['stays_in_week_nights']"
   ]
  },
  {
   "cell_type": "code",
   "execution_count": 26,
   "id": "96d73f7a",
   "metadata": {},
   "outputs": [],
   "source": [
    "def add_country_names(df):\n",
    "    country_names = []\n",
    "    for country_code in df['country']:\n",
    "        try:\n",
    "            country_name = pycountry.countries.get(alpha_3=country_code).name\n",
    "        except AttributeError:\n",
    "            country_name = None\n",
    "        except LookupError:\n",
    "            country_name = None\n",
    "        country_names.append(country_name)\n",
    "    df['country_name'] = country_names\n",
    "    return df"
   ]
  },
  {
   "cell_type": "code",
   "execution_count": 27,
   "id": "303d7273",
   "metadata": {},
   "outputs": [],
   "source": [
    "def add_continent(df):\n",
    "    continents = []\n",
    "    for country in df['country_name']:\n",
    "        try:\n",
    "            country_code = pc.country_name_to_country_alpha2(country)\n",
    "            continent_name = pc.country_alpha2_to_continent_code(country_code)\n",
    "            continent_code = pc.convert_continent_code_to_continent_name(continent_name)\n",
    "            continents.append(continent_code)\n",
    "        except:\n",
    "            continents.append(None)\n",
    "    df['continentes'] = continents    \n",
    "\n",
    "    return df"
   ]
  },
  {
   "cell_type": "code",
   "execution_count": 28,
   "id": "2a33f228",
   "metadata": {},
   "outputs": [],
   "source": [
    "data = add_country_names(data)"
   ]
  },
  {
   "cell_type": "code",
   "execution_count": 29,
   "id": "26315308",
   "metadata": {},
   "outputs": [],
   "source": [
    "data = add_continent(data)"
   ]
  },
  {
   "cell_type": "code",
   "execution_count": 30,
   "id": "49186fe8",
   "metadata": {},
   "outputs": [],
   "source": [
    "data.loc[data['country'] == 'PRT', 'continentes'] = 'Native'"
   ]
  },
  {
   "cell_type": "code",
   "execution_count": 31,
   "id": "2c58e00c",
   "metadata": {},
   "outputs": [],
   "source": [
    "nan_replacements = {\"children\": 0, \"agent\": 0, \"company\": 0, \"country\":\"Unknow\", \"country_name\":\"Unknow\", \"continentes\":\"Unknow\"}\n",
    "data = data.fillna(nan_replacements)"
   ]
  },
  {
   "cell_type": "code",
   "execution_count": 32,
   "id": "c43ef93a",
   "metadata": {},
   "outputs": [
    {
     "data": {
      "text/plain": [
       "0"
      ]
     },
     "execution_count": 32,
     "metadata": {},
     "output_type": "execute_result"
    }
   ],
   "source": [
    "data.isna().sum().sum()"
   ]
  },
  {
   "cell_type": "code",
   "execution_count": 35,
   "id": "d8ec7502",
   "metadata": {},
   "outputs": [],
   "source": [
    "data=data.reset_index(drop=True)"
   ]
  },
  {
   "cell_type": "code",
   "execution_count": 37,
   "id": "5c5bf17f",
   "metadata": {},
   "outputs": [],
   "source": [
    "data.to_csv(f\"{ROOT_DIR}\\data\\data_processed\\hotel_bookings_processed.csv\")"
   ]
  }
 ],
 "metadata": {
  "hide_input": false,
  "kernelspec": {
   "display_name": "Python 3 (ipykernel)",
   "language": "python",
   "name": "python3"
  },
  "language_info": {
   "codemirror_mode": {
    "name": "ipython",
    "version": 3
   },
   "file_extension": ".py",
   "mimetype": "text/x-python",
   "name": "python",
   "nbconvert_exporter": "python",
   "pygments_lexer": "ipython3",
   "version": "3.10.6"
  },
  "latex_envs": {
   "LaTeX_envs_menu_present": true,
   "autoclose": false,
   "autocomplete": true,
   "bibliofile": "biblio.bib",
   "cite_by": "apalike",
   "current_citInitial": 1,
   "eqLabelWithNumbers": true,
   "eqNumInitial": 1,
   "hotkeys": {
    "equation": "Ctrl-E",
    "itemize": "Ctrl-I"
   },
   "labels_anchors": false,
   "latex_user_defs": false,
   "report_style_numbering": false,
   "user_envs_cfg": false
  }
 },
 "nbformat": 4,
 "nbformat_minor": 5
}
